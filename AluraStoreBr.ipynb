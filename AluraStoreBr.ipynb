{
  "nbformat": 4,
  "nbformat_minor": 0,
  "metadata": {
    "colab": {
      "provenance": []
    },
    "kernelspec": {
      "name": "python3",
      "display_name": "Python 3"
    },
    "language_info": {
      "name": "python"
    }
  },
  "cells": [
    {
      "cell_type": "markdown",
      "source": [
        "### Importação dos dados\n",
        "\n"
      ],
      "metadata": {
        "id": "RhEdWd9YUR6H"
      }
    },
    {
      "cell_type": "code",
      "execution_count": 40,
      "metadata": {
        "colab": {
          "base_uri": "https://localhost:8080/",
          "height": 206
        },
        "id": "T3EvaeQ_INIL",
        "outputId": "e76f1152-6477-4a0a-ce20-90de31ed52e5"
      },
      "outputs": [
        {
          "output_type": "execute_result",
          "data": {
            "text/plain": [
              "                 Produto Categoria do Produto    Preço      Frete  \\\n",
              "0     Assistente virtual          eletronicos   219.08   9.249790   \n",
              "1         Mesa de jantar               moveis   256.35  11.234305   \n",
              "2      Jogo de tabuleiro           brinquedos   279.51  21.262681   \n",
              "3            Micro-ondas     eletrodomesticos  1009.99  54.667344   \n",
              "4  Cadeira de escritório               moveis   446.99  26.964689   \n",
              "\n",
              "  Data da Compra        Vendedor Local da compra  Avaliação da compra  \\\n",
              "0     16/01/2021     Pedro Gomes              SP                    4   \n",
              "1     18/05/2022  Beatriz Moraes              RJ                    1   \n",
              "2     15/03/2021      João Souza              DF                    1   \n",
              "3     03/05/2022      João Souza              RS                    4   \n",
              "4     07/11/2020   Larissa Alves              MG                    5   \n",
              "\n",
              "  Tipo de pagamento  Quantidade de parcelas    lat    lon  \n",
              "0    cartao_credito                       8 -22.19 -48.79  \n",
              "1    cartao_credito                       4 -22.25 -42.66  \n",
              "2    cartao_credito                       1 -15.83 -47.86  \n",
              "3            boleto                       1 -30.17 -53.50  \n",
              "4            boleto                       1 -18.10 -44.38  "
            ],
            "text/html": [
              "\n",
              "  <div id=\"df-dabf4979-de06-40c9-8be6-f1cb08a61a6a\" class=\"colab-df-container\">\n",
              "    <div>\n",
              "<style scoped>\n",
              "    .dataframe tbody tr th:only-of-type {\n",
              "        vertical-align: middle;\n",
              "    }\n",
              "\n",
              "    .dataframe tbody tr th {\n",
              "        vertical-align: top;\n",
              "    }\n",
              "\n",
              "    .dataframe thead th {\n",
              "        text-align: right;\n",
              "    }\n",
              "</style>\n",
              "<table border=\"1\" class=\"dataframe\">\n",
              "  <thead>\n",
              "    <tr style=\"text-align: right;\">\n",
              "      <th></th>\n",
              "      <th>Produto</th>\n",
              "      <th>Categoria do Produto</th>\n",
              "      <th>Preço</th>\n",
              "      <th>Frete</th>\n",
              "      <th>Data da Compra</th>\n",
              "      <th>Vendedor</th>\n",
              "      <th>Local da compra</th>\n",
              "      <th>Avaliação da compra</th>\n",
              "      <th>Tipo de pagamento</th>\n",
              "      <th>Quantidade de parcelas</th>\n",
              "      <th>lat</th>\n",
              "      <th>lon</th>\n",
              "    </tr>\n",
              "  </thead>\n",
              "  <tbody>\n",
              "    <tr>\n",
              "      <th>0</th>\n",
              "      <td>Assistente virtual</td>\n",
              "      <td>eletronicos</td>\n",
              "      <td>219.08</td>\n",
              "      <td>9.249790</td>\n",
              "      <td>16/01/2021</td>\n",
              "      <td>Pedro Gomes</td>\n",
              "      <td>SP</td>\n",
              "      <td>4</td>\n",
              "      <td>cartao_credito</td>\n",
              "      <td>8</td>\n",
              "      <td>-22.19</td>\n",
              "      <td>-48.79</td>\n",
              "    </tr>\n",
              "    <tr>\n",
              "      <th>1</th>\n",
              "      <td>Mesa de jantar</td>\n",
              "      <td>moveis</td>\n",
              "      <td>256.35</td>\n",
              "      <td>11.234305</td>\n",
              "      <td>18/05/2022</td>\n",
              "      <td>Beatriz Moraes</td>\n",
              "      <td>RJ</td>\n",
              "      <td>1</td>\n",
              "      <td>cartao_credito</td>\n",
              "      <td>4</td>\n",
              "      <td>-22.25</td>\n",
              "      <td>-42.66</td>\n",
              "    </tr>\n",
              "    <tr>\n",
              "      <th>2</th>\n",
              "      <td>Jogo de tabuleiro</td>\n",
              "      <td>brinquedos</td>\n",
              "      <td>279.51</td>\n",
              "      <td>21.262681</td>\n",
              "      <td>15/03/2021</td>\n",
              "      <td>João Souza</td>\n",
              "      <td>DF</td>\n",
              "      <td>1</td>\n",
              "      <td>cartao_credito</td>\n",
              "      <td>1</td>\n",
              "      <td>-15.83</td>\n",
              "      <td>-47.86</td>\n",
              "    </tr>\n",
              "    <tr>\n",
              "      <th>3</th>\n",
              "      <td>Micro-ondas</td>\n",
              "      <td>eletrodomesticos</td>\n",
              "      <td>1009.99</td>\n",
              "      <td>54.667344</td>\n",
              "      <td>03/05/2022</td>\n",
              "      <td>João Souza</td>\n",
              "      <td>RS</td>\n",
              "      <td>4</td>\n",
              "      <td>boleto</td>\n",
              "      <td>1</td>\n",
              "      <td>-30.17</td>\n",
              "      <td>-53.50</td>\n",
              "    </tr>\n",
              "    <tr>\n",
              "      <th>4</th>\n",
              "      <td>Cadeira de escritório</td>\n",
              "      <td>moveis</td>\n",
              "      <td>446.99</td>\n",
              "      <td>26.964689</td>\n",
              "      <td>07/11/2020</td>\n",
              "      <td>Larissa Alves</td>\n",
              "      <td>MG</td>\n",
              "      <td>5</td>\n",
              "      <td>boleto</td>\n",
              "      <td>1</td>\n",
              "      <td>-18.10</td>\n",
              "      <td>-44.38</td>\n",
              "    </tr>\n",
              "  </tbody>\n",
              "</table>\n",
              "</div>\n",
              "    <div class=\"colab-df-buttons\">\n",
              "\n",
              "  <div class=\"colab-df-container\">\n",
              "    <button class=\"colab-df-convert\" onclick=\"convertToInteractive('df-dabf4979-de06-40c9-8be6-f1cb08a61a6a')\"\n",
              "            title=\"Convert this dataframe to an interactive table.\"\n",
              "            style=\"display:none;\">\n",
              "\n",
              "  <svg xmlns=\"http://www.w3.org/2000/svg\" height=\"24px\" viewBox=\"0 -960 960 960\">\n",
              "    <path d=\"M120-120v-720h720v720H120Zm60-500h600v-160H180v160Zm220 220h160v-160H400v160Zm0 220h160v-160H400v160ZM180-400h160v-160H180v160Zm440 0h160v-160H620v160ZM180-180h160v-160H180v160Zm440 0h160v-160H620v160Z\"/>\n",
              "  </svg>\n",
              "    </button>\n",
              "\n",
              "  <style>\n",
              "    .colab-df-container {\n",
              "      display:flex;\n",
              "      gap: 12px;\n",
              "    }\n",
              "\n",
              "    .colab-df-convert {\n",
              "      background-color: #E8F0FE;\n",
              "      border: none;\n",
              "      border-radius: 50%;\n",
              "      cursor: pointer;\n",
              "      display: none;\n",
              "      fill: #1967D2;\n",
              "      height: 32px;\n",
              "      padding: 0 0 0 0;\n",
              "      width: 32px;\n",
              "    }\n",
              "\n",
              "    .colab-df-convert:hover {\n",
              "      background-color: #E2EBFA;\n",
              "      box-shadow: 0px 1px 2px rgba(60, 64, 67, 0.3), 0px 1px 3px 1px rgba(60, 64, 67, 0.15);\n",
              "      fill: #174EA6;\n",
              "    }\n",
              "\n",
              "    .colab-df-buttons div {\n",
              "      margin-bottom: 4px;\n",
              "    }\n",
              "\n",
              "    [theme=dark] .colab-df-convert {\n",
              "      background-color: #3B4455;\n",
              "      fill: #D2E3FC;\n",
              "    }\n",
              "\n",
              "    [theme=dark] .colab-df-convert:hover {\n",
              "      background-color: #434B5C;\n",
              "      box-shadow: 0px 1px 3px 1px rgba(0, 0, 0, 0.15);\n",
              "      filter: drop-shadow(0px 1px 2px rgba(0, 0, 0, 0.3));\n",
              "      fill: #FFFFFF;\n",
              "    }\n",
              "  </style>\n",
              "\n",
              "    <script>\n",
              "      const buttonEl =\n",
              "        document.querySelector('#df-dabf4979-de06-40c9-8be6-f1cb08a61a6a button.colab-df-convert');\n",
              "      buttonEl.style.display =\n",
              "        google.colab.kernel.accessAllowed ? 'block' : 'none';\n",
              "\n",
              "      async function convertToInteractive(key) {\n",
              "        const element = document.querySelector('#df-dabf4979-de06-40c9-8be6-f1cb08a61a6a');\n",
              "        const dataTable =\n",
              "          await google.colab.kernel.invokeFunction('convertToInteractive',\n",
              "                                                    [key], {});\n",
              "        if (!dataTable) return;\n",
              "\n",
              "        const docLinkHtml = 'Like what you see? Visit the ' +\n",
              "          '<a target=\"_blank\" href=https://colab.research.google.com/notebooks/data_table.ipynb>data table notebook</a>'\n",
              "          + ' to learn more about interactive tables.';\n",
              "        element.innerHTML = '';\n",
              "        dataTable['output_type'] = 'display_data';\n",
              "        await google.colab.output.renderOutput(dataTable, element);\n",
              "        const docLink = document.createElement('div');\n",
              "        docLink.innerHTML = docLinkHtml;\n",
              "        element.appendChild(docLink);\n",
              "      }\n",
              "    </script>\n",
              "  </div>\n",
              "\n",
              "\n",
              "    <div id=\"df-8e325a49-df68-4e95-b8d2-e80e3b56f479\">\n",
              "      <button class=\"colab-df-quickchart\" onclick=\"quickchart('df-8e325a49-df68-4e95-b8d2-e80e3b56f479')\"\n",
              "                title=\"Suggest charts\"\n",
              "                style=\"display:none;\">\n",
              "\n",
              "<svg xmlns=\"http://www.w3.org/2000/svg\" height=\"24px\"viewBox=\"0 0 24 24\"\n",
              "     width=\"24px\">\n",
              "    <g>\n",
              "        <path d=\"M19 3H5c-1.1 0-2 .9-2 2v14c0 1.1.9 2 2 2h14c1.1 0 2-.9 2-2V5c0-1.1-.9-2-2-2zM9 17H7v-7h2v7zm4 0h-2V7h2v10zm4 0h-2v-4h2v4z\"/>\n",
              "    </g>\n",
              "</svg>\n",
              "      </button>\n",
              "\n",
              "<style>\n",
              "  .colab-df-quickchart {\n",
              "      --bg-color: #E8F0FE;\n",
              "      --fill-color: #1967D2;\n",
              "      --hover-bg-color: #E2EBFA;\n",
              "      --hover-fill-color: #174EA6;\n",
              "      --disabled-fill-color: #AAA;\n",
              "      --disabled-bg-color: #DDD;\n",
              "  }\n",
              "\n",
              "  [theme=dark] .colab-df-quickchart {\n",
              "      --bg-color: #3B4455;\n",
              "      --fill-color: #D2E3FC;\n",
              "      --hover-bg-color: #434B5C;\n",
              "      --hover-fill-color: #FFFFFF;\n",
              "      --disabled-bg-color: #3B4455;\n",
              "      --disabled-fill-color: #666;\n",
              "  }\n",
              "\n",
              "  .colab-df-quickchart {\n",
              "    background-color: var(--bg-color);\n",
              "    border: none;\n",
              "    border-radius: 50%;\n",
              "    cursor: pointer;\n",
              "    display: none;\n",
              "    fill: var(--fill-color);\n",
              "    height: 32px;\n",
              "    padding: 0;\n",
              "    width: 32px;\n",
              "  }\n",
              "\n",
              "  .colab-df-quickchart:hover {\n",
              "    background-color: var(--hover-bg-color);\n",
              "    box-shadow: 0 1px 2px rgba(60, 64, 67, 0.3), 0 1px 3px 1px rgba(60, 64, 67, 0.15);\n",
              "    fill: var(--button-hover-fill-color);\n",
              "  }\n",
              "\n",
              "  .colab-df-quickchart-complete:disabled,\n",
              "  .colab-df-quickchart-complete:disabled:hover {\n",
              "    background-color: var(--disabled-bg-color);\n",
              "    fill: var(--disabled-fill-color);\n",
              "    box-shadow: none;\n",
              "  }\n",
              "\n",
              "  .colab-df-spinner {\n",
              "    border: 2px solid var(--fill-color);\n",
              "    border-color: transparent;\n",
              "    border-bottom-color: var(--fill-color);\n",
              "    animation:\n",
              "      spin 1s steps(1) infinite;\n",
              "  }\n",
              "\n",
              "  @keyframes spin {\n",
              "    0% {\n",
              "      border-color: transparent;\n",
              "      border-bottom-color: var(--fill-color);\n",
              "      border-left-color: var(--fill-color);\n",
              "    }\n",
              "    20% {\n",
              "      border-color: transparent;\n",
              "      border-left-color: var(--fill-color);\n",
              "      border-top-color: var(--fill-color);\n",
              "    }\n",
              "    30% {\n",
              "      border-color: transparent;\n",
              "      border-left-color: var(--fill-color);\n",
              "      border-top-color: var(--fill-color);\n",
              "      border-right-color: var(--fill-color);\n",
              "    }\n",
              "    40% {\n",
              "      border-color: transparent;\n",
              "      border-right-color: var(--fill-color);\n",
              "      border-top-color: var(--fill-color);\n",
              "    }\n",
              "    60% {\n",
              "      border-color: transparent;\n",
              "      border-right-color: var(--fill-color);\n",
              "    }\n",
              "    80% {\n",
              "      border-color: transparent;\n",
              "      border-right-color: var(--fill-color);\n",
              "      border-bottom-color: var(--fill-color);\n",
              "    }\n",
              "    90% {\n",
              "      border-color: transparent;\n",
              "      border-bottom-color: var(--fill-color);\n",
              "    }\n",
              "  }\n",
              "</style>\n",
              "\n",
              "      <script>\n",
              "        async function quickchart(key) {\n",
              "          const quickchartButtonEl =\n",
              "            document.querySelector('#' + key + ' button');\n",
              "          quickchartButtonEl.disabled = true;  // To prevent multiple clicks.\n",
              "          quickchartButtonEl.classList.add('colab-df-spinner');\n",
              "          try {\n",
              "            const charts = await google.colab.kernel.invokeFunction(\n",
              "                'suggestCharts', [key], {});\n",
              "          } catch (error) {\n",
              "            console.error('Error during call to suggestCharts:', error);\n",
              "          }\n",
              "          quickchartButtonEl.classList.remove('colab-df-spinner');\n",
              "          quickchartButtonEl.classList.add('colab-df-quickchart-complete');\n",
              "        }\n",
              "        (() => {\n",
              "          let quickchartButtonEl =\n",
              "            document.querySelector('#df-8e325a49-df68-4e95-b8d2-e80e3b56f479 button');\n",
              "          quickchartButtonEl.style.display =\n",
              "            google.colab.kernel.accessAllowed ? 'block' : 'none';\n",
              "        })();\n",
              "      </script>\n",
              "    </div>\n",
              "\n",
              "    </div>\n",
              "  </div>\n"
            ],
            "application/vnd.google.colaboratory.intrinsic+json": {
              "type": "dataframe",
              "variable_name": "loja",
              "summary": "{\n  \"name\": \"loja\",\n  \"rows\": 2359,\n  \"fields\": [\n    {\n      \"column\": \"Produto\",\n      \"properties\": {\n        \"dtype\": \"category\",\n        \"num_unique_values\": 51,\n        \"samples\": [\n          \"Viol\\u00e3o\",\n          \"Bola de basquete\",\n          \"Smartwatch\"\n        ],\n        \"semantic_type\": \"\",\n        \"description\": \"\"\n      }\n    },\n    {\n      \"column\": \"Categoria do Produto\",\n      \"properties\": {\n        \"dtype\": \"category\",\n        \"num_unique_values\": 8,\n        \"samples\": [\n          \"moveis\",\n          \"esporte e lazer\",\n          \"eletronicos\"\n        ],\n        \"semantic_type\": \"\",\n        \"description\": \"\"\n      }\n    },\n    {\n      \"column\": \"Pre\\u00e7o\",\n      \"properties\": {\n        \"dtype\": \"number\",\n        \"std\": 819.5827782539145,\n        \"min\": 10.07,\n        \"max\": 3969.38,\n        \"num_unique_values\": 2315,\n        \"samples\": [\n          446.11,\n          107.31,\n          65.86\n        ],\n        \"semantic_type\": \"\",\n        \"description\": \"\"\n      }\n    },\n    {\n      \"column\": \"Frete\",\n      \"properties\": {\n        \"dtype\": \"number\",\n        \"std\": 43.814183327408166,\n        \"min\": 0.0,\n        \"max\": 214.3770604781,\n        \"num_unique_values\": 2149,\n        \"samples\": [\n          83.815279607,\n          16.069664669,\n          14.0344876928\n        ],\n        \"semantic_type\": \"\",\n        \"description\": \"\"\n      }\n    },\n    {\n      \"column\": \"Data da Compra\",\n      \"properties\": {\n        \"dtype\": \"object\",\n        \"num_unique_values\": 1018,\n        \"samples\": [\n          \"15/09/2022\",\n          \"03/06/2020\",\n          \"06/11/2021\"\n        ],\n        \"semantic_type\": \"\",\n        \"description\": \"\"\n      }\n    },\n    {\n      \"column\": \"Vendedor\",\n      \"properties\": {\n        \"dtype\": \"category\",\n        \"num_unique_values\": 14,\n        \"samples\": [\n          \"Juliana Costa\",\n          \"Mariana Ferreira\",\n          \"Pedro Gomes\"\n        ],\n        \"semantic_type\": \"\",\n        \"description\": \"\"\n      }\n    },\n    {\n      \"column\": \"Local da compra\",\n      \"properties\": {\n        \"dtype\": \"category\",\n        \"num_unique_values\": 26,\n        \"samples\": [\n          \"TO\",\n          \"RN\",\n          \"SP\"\n        ],\n        \"semantic_type\": \"\",\n        \"description\": \"\"\n      }\n    },\n    {\n      \"column\": \"Avalia\\u00e7\\u00e3o da compra\",\n      \"properties\": {\n        \"dtype\": \"number\",\n        \"std\": 1,\n        \"min\": 1,\n        \"max\": 5,\n        \"num_unique_values\": 5,\n        \"samples\": [\n          1,\n          2,\n          5\n        ],\n        \"semantic_type\": \"\",\n        \"description\": \"\"\n      }\n    },\n    {\n      \"column\": \"Tipo de pagamento\",\n      \"properties\": {\n        \"dtype\": \"category\",\n        \"num_unique_values\": 4,\n        \"samples\": [\n          \"boleto\",\n          \"cartao_debito\",\n          \"cartao_credito\"\n        ],\n        \"semantic_type\": \"\",\n        \"description\": \"\"\n      }\n    },\n    {\n      \"column\": \"Quantidade de parcelas\",\n      \"properties\": {\n        \"dtype\": \"number\",\n        \"std\": 2,\n        \"min\": 1,\n        \"max\": 24,\n        \"num_unique_values\": 15,\n        \"samples\": [\n          7,\n          14,\n          8\n        ],\n        \"semantic_type\": \"\",\n        \"description\": \"\"\n      }\n    },\n    {\n      \"column\": \"lat\",\n      \"properties\": {\n        \"dtype\": \"number\",\n        \"std\": 5.372399916530833,\n        \"min\": -30.17,\n        \"max\": 1.41,\n        \"num_unique_values\": 26,\n        \"samples\": [\n          -9.46,\n          -5.81,\n          -22.19\n        ],\n        \"semantic_type\": \"\",\n        \"description\": \"\"\n      }\n    },\n    {\n      \"column\": \"lon\",\n      \"properties\": {\n        \"dtype\": \"number\",\n        \"std\": 4.183180020544179,\n        \"min\": -70.55,\n        \"max\": -36.59,\n        \"num_unique_values\": 26,\n        \"samples\": [\n          -48.26,\n          -36.59,\n          -48.79\n        ],\n        \"semantic_type\": \"\",\n        \"description\": \"\"\n      }\n    }\n  ]\n}"
            }
          },
          "metadata": {},
          "execution_count": 40
        }
      ],
      "source": [
        "import pandas as pd\n",
        "\n",
        "url = \"https://raw.githubusercontent.com/alura-es-cursos/challenge1-data-science/refs/heads/main/base-de-dados-challenge-1/loja_1.csv\"\n",
        "url2 = \"https://raw.githubusercontent.com/alura-es-cursos/challenge1-data-science/refs/heads/main/base-de-dados-challenge-1/loja_2.csv\"\n",
        "url3 = \"https://raw.githubusercontent.com/alura-es-cursos/challenge1-data-science/refs/heads/main/base-de-dados-challenge-1/loja_3.csv\"\n",
        "url4 = \"https://raw.githubusercontent.com/alura-es-cursos/challenge1-data-science/refs/heads/main/base-de-dados-challenge-1/loja_4.csv\"\n",
        "\n",
        "loja = pd.read_csv(url)\n",
        "loja2 = pd.read_csv(url2)\n",
        "loja3 = pd.read_csv(url3)\n",
        "loja4 = pd.read_csv(url4)\n",
        "\n",
        "loja.head()"
      ]
    },
    {
      "cell_type": "code",
      "source": [
        "# prompt: Usando o DataFrame loja: # Mostrar as colunas do primeiro DataFrame para descobrir o nome real da coluna de preço\n",
        "# print(\"Colunas disponíveis em loja1:\")\n",
        "# print(loja1.columns)\n",
        "\n",
        "# Display the columns of the first DataFrame to find the real name of the price column\n",
        "print(\"Colunas disponíveis em loja:\")\n",
        "loja.columns"
      ],
      "metadata": {
        "id": "kbY2MJ9LUiIt",
        "colab": {
          "base_uri": "https://localhost:8080/"
        },
        "outputId": "9016426c-9c41-473e-a336-eda42fb27686"
      },
      "execution_count": 41,
      "outputs": [
        {
          "output_type": "stream",
          "name": "stdout",
          "text": [
            "Colunas disponíveis em loja:\n"
          ]
        },
        {
          "output_type": "execute_result",
          "data": {
            "text/plain": [
              "Index(['Produto', 'Categoria do Produto', 'Preço', 'Frete', 'Data da Compra',\n",
              "       'Vendedor', 'Local da compra', 'Avaliação da compra',\n",
              "       'Tipo de pagamento', 'Quantidade de parcelas', 'lat', 'lon'],\n",
              "      dtype='object')"
            ]
          },
          "metadata": {},
          "execution_count": 41
        }
      ]
    },
    {
      "cell_type": "markdown",
      "source": [
        "#1. Análise do faturamento\n"
      ],
      "metadata": {
        "id": "X62IW3KFUIYm"
      }
    },
    {
      "cell_type": "code",
      "source": [
        "# Calculando o faturamento de cada loja\n",
        "faturamento_loja1 = loja[\"Preço\"].sum()\n",
        "faturamento_loja2 = loja2[\"Preço\"].sum()\n",
        "faturamento_loja3 = loja3[\"Preço\"].sum()\n",
        "faturamento_loja4 = loja4[\"Preço\"].sum()\n",
        "\n",
        "# Exibindo os resultados\n",
        "print(f\"Faturamento Loja 1: R$ {faturamento_loja1:,.2f}\")\n",
        "print(f\"Faturamento Loja 2: R$ {faturamento_loja2:,.2f}\")\n",
        "print(f\"Faturamento Loja 3: R$ {faturamento_loja3:,.2f}\")\n",
        "print(f\"Faturamento Loja 4: R$ {faturamento_loja4:,.2f}\")\n"
      ],
      "metadata": {
        "id": "xykobSftV64I",
        "colab": {
          "base_uri": "https://localhost:8080/"
        },
        "outputId": "ab876d70-3134-4b81-d314-6b241d68fa49"
      },
      "execution_count": 42,
      "outputs": [
        {
          "output_type": "stream",
          "name": "stdout",
          "text": [
            "Faturamento Loja 1: R$ 1,534,509.12\n",
            "Faturamento Loja 2: R$ 1,488,459.06\n",
            "Faturamento Loja 3: R$ 1,464,025.03\n",
            "Faturamento Loja 4: R$ 1,384,497.58\n"
          ]
        }
      ]
    },
    {
      "cell_type": "markdown",
      "source": [
        "# 2. Vendas por Categoria\n"
      ],
      "metadata": {
        "id": "2V_vcAPzWZmR"
      }
    },
    {
      "cell_type": "code",
      "source": [
        "# Criando DataFrames e ordenando do maior para o menor faturamento\n",
        "faturamento_por_categoria_loja1 = loja.groupby(\"Categoria do Produto\")[\"Preço\"].sum()\n",
        "faturamento_por_categoria_loja2 = loja2.groupby(\"Categoria do Produto\")[\"Preço\"].sum()\n",
        "faturamento_por_categoria_loja3 = loja3.groupby(\"Categoria do Produto\")[\"Preço\"].sum()\n",
        "faturamento_por_categoria_loja4 = loja4.groupby(\"Categoria do Produto\")[\"Preço\"].sum()\n",
        "\n",
        "df_faturamento_loja1 = faturamento_por_categoria_loja1.reset_index().sort_values(by=\"Preço\", ascending=False)\n",
        "df_faturamento_loja2 = faturamento_por_categoria_loja2.reset_index().sort_values(by=\"Preço\", ascending=False)\n",
        "df_faturamento_loja3 = faturamento_por_categoria_loja3.reset_index().sort_values(by=\"Preço\", ascending=False)\n",
        "df_faturamento_loja4 = faturamento_por_categoria_loja4.reset_index().sort_values(by=\"Preço\", ascending=False)\n",
        "\n",
        "print(\"\\nFaturamento por categoria - Loja 1 (ordenado):\")\n",
        "print(df_faturamento_loja1)\n",
        "\n",
        "print(\"\\nFaturamento por categoria - Loja 2 (ordenado):\")\n",
        "print(df_faturamento_loja2)\n",
        "\n",
        "print(\"\\nFaturamento por categoria - Loja 3 (ordenado):\")\n",
        "print(df_faturamento_loja3)\n",
        "\n",
        "print(\"\\nFaturamento por categoria - Loja 4 (ordenado):\")\n",
        "print(df_faturamento_loja4)"
      ],
      "metadata": {
        "id": "A34YupIuYhfF",
        "colab": {
          "base_uri": "https://localhost:8080/"
        },
        "outputId": "a673d841-b7ad-4e64-cce7-20ed02c608bc"
      },
      "execution_count": 43,
      "outputs": [
        {
          "output_type": "stream",
          "name": "stdout",
          "text": [
            "\n",
            "Faturamento por categoria - Loja 1 (ordenado):\n",
            "    Categoria do Produto      Preço\n",
            "2            eletronicos  572659.23\n",
            "1       eletrodomesticos  484913.36\n",
            "6                 moveis  250178.11\n",
            "4  instrumentos musicais  121731.69\n",
            "3        esporte e lazer   52387.55\n",
            "0             brinquedos   23993.78\n",
            "7  utilidades domesticas   16931.48\n",
            "5                 livros   11713.92\n",
            "\n",
            "Faturamento por categoria - Loja 2 (ordenado):\n",
            "    Categoria do Produto      Preço\n",
            "2            eletronicos  547773.71\n",
            "1       eletrodomesticos  464758.13\n",
            "6                 moveis  235234.68\n",
            "4  instrumentos musicais  139987.03\n",
            "3        esporte e lazer   46326.09\n",
            "0             brinquedos   21262.21\n",
            "7  utilidades domesticas   19662.86\n",
            "5                 livros   13454.35\n",
            "\n",
            "Faturamento por categoria - Loja 3 (ordenado):\n",
            "    Categoria do Produto      Preço\n",
            "2            eletronicos  547699.92\n",
            "1       eletrodomesticos  438984.89\n",
            "6                 moveis  268095.56\n",
            "4  instrumentos musicais  103174.45\n",
            "3        esporte e lazer   47456.10\n",
            "0             brinquedos   25869.20\n",
            "7  utilidades domesticas   20080.21\n",
            "5                 livros   12664.70\n",
            "\n",
            "Faturamento por categoria - Loja 4 (ordenado):\n",
            "    Categoria do Produto      Preço\n",
            "2            eletronicos  545966.86\n",
            "1       eletrodomesticos  377680.65\n",
            "6                 moveis  256705.65\n",
            "4  instrumentos musicais  100136.50\n",
            "3        esporte e lazer   44465.65\n",
            "0             brinquedos   27015.67\n",
            "7  utilidades domesticas   20098.83\n",
            "5                 livros   12427.77\n"
          ]
        }
      ]
    },
    {
      "cell_type": "markdown",
      "source": [
        "# 3. Média de Avaliação das Lojas"
      ],
      "metadata": {
        "id": "Rq6tU_xSY3jk"
      }
    },
    {
      "cell_type": "code",
      "source": [
        "media_avaliacao_loja1 = loja[\"Avaliação da compra\"].dropna().mean()\n",
        "\n",
        "# Calculando a média de avaliação para cada loja\n",
        "media_avaliacao_loja1 = loja[\"Avaliação da compra\"].mean()\n",
        "media_avaliacao_loja2 = loja2[\"Avaliação da compra\"].mean()\n",
        "media_avaliacao_loja3 = loja3[\"Avaliação da compra\"].mean()\n",
        "media_avaliacao_loja4 = loja4[\"Avaliação da compra\"].mean()\n",
        "\n",
        "# Exibindo os resultados formatados\n",
        "print(f\"Média de avaliação - Loja 1: {media_avaliacao_loja1:.2f}\")\n",
        "print(f\"Média de avaliação - Loja 2: {media_avaliacao_loja2:.2f}\")\n",
        "print(f\"Média de avaliação - Loja 3: {media_avaliacao_loja3:.2f}\")\n",
        "print(f\"Média de avaliação - Loja 4: {media_avaliacao_loja4:.2f}\")"
      ],
      "metadata": {
        "id": "bh3jjjJwY5MU",
        "colab": {
          "base_uri": "https://localhost:8080/"
        },
        "outputId": "5bfd8204-6c55-41c3-d5e6-7f8231f8f25c"
      },
      "execution_count": 45,
      "outputs": [
        {
          "output_type": "stream",
          "name": "stdout",
          "text": [
            "Média de avaliação - Loja 1: 3.98\n",
            "Média de avaliação - Loja 2: 4.04\n",
            "Média de avaliação - Loja 3: 4.05\n",
            "Média de avaliação - Loja 4: 4.00\n"
          ]
        }
      ]
    },
    {
      "cell_type": "markdown",
      "source": [
        "# 4. Produtos Mais e Menos Vendidos"
      ],
      "metadata": {
        "id": "DmNp1KPBZCm-"
      }
    },
    {
      "cell_type": "code",
      "source": [
        "# Contando a quantidade de vendas por produto (considerando repetição de registros)\n",
        "produtos_mais_vendidos_loja1 = loja[\"Produto\"].value_counts().reset_index()\n",
        "produtos_mais_vendidos_loja2 = loja2[\"Produto\"].value_counts().reset_index()\n",
        "produtos_mais_vendidos_loja3 = loja3[\"Produto\"].value_counts().reset_index()\n",
        "produtos_mais_vendidos_loja4 = loja4[\"Produto\"].value_counts().reset_index()\n",
        "\n",
        "# Renomeando colunas para melhor identificação\n",
        "produtos_mais_vendidos_loja1.columns = [\"Produto\", \"Quantidade Vendida\"]\n",
        "produtos_mais_vendidos_loja2.columns = [\"Produto\", \"Quantidade Vendida\"]\n",
        "produtos_mais_vendidos_loja3.columns = [\"Produto\", \"Quantidade Vendida\"]\n",
        "produtos_mais_vendidos_loja4.columns = [\"Produto\", \"Quantidade Vendida\"]\n",
        "\n",
        "# Ordenando do mais vendido para o menos vendido\n",
        "produtos_mais_vendidos_loja1 = produtos_mais_vendidos_loja1.sort_values(by=\"Quantidade Vendida\", ascending=False)\n",
        "produtos_mais_vendidos_loja2 = produtos_mais_vendidos_loja2.sort_values(by=\"Quantidade Vendida\", ascending=False)\n",
        "produtos_mais_vendidos_loja3 = produtos_mais_vendidos_loja3.sort_values(by=\"Quantidade Vendida\", ascending=False)\n",
        "produtos_mais_vendidos_loja4 = produtos_mais_vendidos_loja4.sort_values(by=\"Quantidade Vendida\", ascending=False)\n",
        "\n",
        "# Exibindo os cinco produtos mais vendidos\n",
        "print(\"Top 5 produtos mais vendidos - Loja 1:\")\n",
        "print(produtos_mais_vendidos_loja1.head())\n",
        "\n",
        "print(\"\\nTop 5 produtos mais vendidos - Loja 2:\")\n",
        "print(produtos_mais_vendidos_loja2.head())\n",
        "\n",
        "print(\"\\nTop 5 produtos mais vendidos - Loja 3:\")\n",
        "print(produtos_mais_vendidos_loja3.head())\n",
        "\n",
        "print(\"\\nTop 5 produtos mais vendidos - Loja 4:\")\n",
        "print(produtos_mais_vendidos_loja4.head())\n",
        "\n",
        "# Exibindo os cinco produtos menos vendidos\n",
        "print(\"\\nTop 5 produtos menos vendidos - Loja 1:\")\n",
        "print(produtos_mais_vendidos_loja1.tail())\n",
        "\n",
        "print(\"\\nTop 5 produtos menos vendidos - Loja 2:\")\n",
        "print(produtos_mais_vendidos_loja2.tail())\n",
        "\n",
        "print(\"\\nTop 5 produtos menos vendidos - Loja 3:\")\n",
        "print(produtos_mais_vendidos_loja3.tail())\n",
        "\n",
        "print(\"\\nTop 5 produtos menos vendidos - Loja 4:\")\n",
        "print(produtos_mais_vendidos_loja4.tail())"
      ],
      "metadata": {
        "id": "qoyjqijQZHfF",
        "colab": {
          "base_uri": "https://localhost:8080/"
        },
        "outputId": "38cdf511-5ee2-4a5d-f70a-766cd461780c"
      },
      "execution_count": 46,
      "outputs": [
        {
          "output_type": "stream",
          "name": "stdout",
          "text": [
            "Top 5 produtos mais vendidos - Loja 1:\n",
            "              Produto  Quantidade Vendida\n",
            "0         Micro-ondas                  60\n",
            "1       TV Led UHD 4K                  60\n",
            "2       Guarda roupas                  60\n",
            "3  Secadora de roupas                  58\n",
            "4              Cômoda                  56\n",
            "\n",
            "Top 5 produtos mais vendidos - Loja 2:\n",
            "                    Produto  Quantidade Vendida\n",
            "0  Iniciando em programação                  65\n",
            "1               Micro-ondas                  62\n",
            "2                   Bateria                  61\n",
            "3                    Violão                  58\n",
            "4                  Pandeiro                  58\n",
            "\n",
            "Top 5 produtos mais vendidos - Loja 3:\n",
            "           Produto  Quantidade Vendida\n",
            "0    Kit banquetas                  57\n",
            "1   Mesa de jantar                  56\n",
            "2        Cama king                  56\n",
            "3  Jogo de panelas                  55\n",
            "4           Cômoda                  55\n",
            "\n",
            "Top 5 produtos mais vendidos - Loja 4:\n",
            "                    Produto  Quantidade Vendida\n",
            "0                  Cama box                  62\n",
            "1                  Faqueiro                  59\n",
            "2   Dashboards com Power BI                  56\n",
            "3                 Cama king                  56\n",
            "4  Carrinho controle remoto                  55\n",
            "\n",
            "Top 5 produtos menos vendidos - Loja 1:\n",
            "                        Produto  Quantidade Vendida\n",
            "46  Ciência de dados com python                  39\n",
            "47                     Pandeiro                  36\n",
            "48            Panela de pressão                  35\n",
            "49                      Headset                  33\n",
            "50                 Celular ABXY                  33\n",
            "\n",
            "Top 5 produtos menos vendidos - Loja 2:\n",
            "              Produto  Quantidade Vendida\n",
            "46     Fone de ouvido                  37\n",
            "47           Poltrona                  35\n",
            "48     Mesa de jantar                  34\n",
            "49         Impressora                  34\n",
            "50  Jogo de tabuleiro                  32\n",
            "\n",
            "Top 5 produtos menos vendidos - Loja 3:\n",
            "             Produto  Quantidade Vendida\n",
            "46          Guitarra                  38\n",
            "47     Jogo de copos                  36\n",
            "48           Mochila                  36\n",
            "49       Micro-ondas                  36\n",
            "50  Blocos de montar                  35\n",
            "\n",
            "Top 5 produtos menos vendidos - Loja 4:\n",
            "                        Produto  Quantidade Vendida\n",
            "46                    Geladeira                  38\n",
            "47  Ciência de dados com python                  38\n",
            "48                       Violão                  37\n",
            "49                Guarda roupas                  34\n",
            "50                     Guitarra                  33\n"
          ]
        }
      ]
    },
    {
      "cell_type": "markdown",
      "source": [
        "# 5. Frete Médio por Loja\n"
      ],
      "metadata": {
        "id": "Fl0cGi3bZKqU"
      }
    },
    {
      "cell_type": "code",
      "source": [
        "frete_medio_loja1 = loja[\"Frete\"].dropna().mean()\n",
        "\n",
        "# Calculando o frete médio por loja\n",
        "frete_medio_loja1 = loja[\"Frete\"].mean()\n",
        "frete_medio_loja2 = loja2[\"Frete\"].mean()\n",
        "frete_medio_loja3 = loja3[\"Frete\"].mean()\n",
        "frete_medio_loja4 = loja4[\"Frete\"].mean()\n",
        "\n",
        "# Exibindo os resultados formatados\n",
        "print(f\"Frete médio - Loja 1: R$ {frete_medio_loja1:.2f}\")\n",
        "print(f\"Frete médio - Loja 2: R$ {frete_medio_loja2:.2f}\")\n",
        "print(f\"Frete médio - Loja 3: R$ {frete_medio_loja3:.2f}\")\n",
        "print(f\"Frete médio - Loja 4: R$ {frete_medio_loja4:.2f}\")"
      ],
      "metadata": {
        "id": "S2JeaCykZNy9",
        "colab": {
          "base_uri": "https://localhost:8080/"
        },
        "outputId": "cfe88c80-c1cc-4d6e-8d1b-bbedaf2d53e7"
      },
      "execution_count": 47,
      "outputs": [
        {
          "output_type": "stream",
          "name": "stdout",
          "text": [
            "Frete médio - Loja 1: R$ 34.69\n",
            "Frete médio - Loja 2: R$ 33.62\n",
            "Frete médio - Loja 3: R$ 33.07\n",
            "Frete médio - Loja 4: R$ 31.28\n"
          ]
        }
      ]
    },
    {
      "cell_type": "markdown",
      "source": [
        "# 6. Gráficos\n"
      ],
      "metadata": {
        "id": "SiUWXgEscj40"
      }
    },
    {
      "cell_type": "code",
      "source": [
        "import matplotlib.pyplot as plt\n",
        "import seaborn as sns\n",
        "\n",
        "# Criando um DataFrame com os dados\n",
        "import pandas as pd\n",
        "\n",
        "dados_lojas = pd.DataFrame({\n",
        "    \"Loja\": [\"Loja 1\", \"Loja 2\", \"Loja 3\", \"Loja 4\"],\n",
        "    \"Faturamento\": [faturamento_loja1, faturamento_loja2, faturamento_loja3, faturamento_loja4],\n",
        "    \"Frete Médio\": [frete_medio_loja1, frete_medio_loja2, frete_medio_loja3, frete_medio_loja4],\n",
        "    \"Avaliação Média\": [media_avaliacao_loja1, media_avaliacao_loja2, media_avaliacao_loja3, media_avaliacao_loja4]\n",
        "})\n",
        "\n",
        "# Configuração do estilo dos gráficos\n",
        "sns.set_theme(style=\"whitegrid\")\n",
        "\n",
        "# 📈 Gráfico 1: Faturamento total por loja\n",
        "plt.figure(figsize=(8,5))\n",
        "sns.barplot(x=\"Loja\", y=\"Faturamento\", data=dados_lojas, palette=\"Blues\")\n",
        "plt.title(\"Faturamento Total por Loja\")\n",
        "plt.ylabel(\"R$ (Milhões)\")\n",
        "plt.xlabel(\"Lojas\")\n",
        "plt.show()\n",
        "\n",
        "# 🚚 Gráfico 2: Frete médio por loja\n",
        "plt.figure(figsize=(8,5))\n",
        "sns.barplot(x=\"Loja\", y=\"Frete Médio\", data=dados_lojas, palette=\"Oranges\")\n",
        "plt.title(\"Frete Médio por Loja\")\n",
        "plt.ylabel(\"R$\")\n",
        "plt.xlabel(\"Lojas\")\n",
        "plt.show()\n",
        "\n",
        "# ⭐ Gráfico 3: Avaliação média por loja\n",
        "plt.figure(figsize=(8,5))\n",
        "sns.barplot(x=\"Loja\", y=\"Avaliação Média\", data=dados_lojas, palette=\"Greens\")\n",
        "plt.title(\"Avaliação Média por Loja\")\n",
        "plt.ylabel(\"Nota Média\")\n",
        "plt.xlabel(\"Lojas\")\n",
        "plt.show()"
      ],
      "metadata": {
        "colab": {
          "base_uri": "https://localhost:8080/",
          "height": 1000
        },
        "id": "cVsiGNZJcoM8",
        "outputId": "3ce8d997-c4cc-4250-f3e9-4c179ace888c"
      },
      "execution_count": 49,
      "outputs": [
        {
          "output_type": "stream",
          "name": "stderr",
          "text": [
            "<ipython-input-49-f5c43a80f3f8>:19: FutureWarning: \n",
            "\n",
            "Passing `palette` without assigning `hue` is deprecated and will be removed in v0.14.0. Assign the `x` variable to `hue` and set `legend=False` for the same effect.\n",
            "\n",
            "  sns.barplot(x=\"Loja\", y=\"Faturamento\", data=dados_lojas, palette=\"Blues\")\n"
          ]
        },
        {
          "output_type": "display_data",
          "data": {
            "text/plain": [
              "<Figure size 800x500 with 1 Axes>"
            ],
            "image/png": "[encoded data removed]"
          },
          "metadata": {}
        },
        {
          "output_type": "stream",
          "name": "stderr",
          "text": [
            "<ipython-input-49-f5c43a80f3f8>:27: FutureWarning: \n",
            "\n",
            "Passing `palette` without assigning `hue` is deprecated and will be removed in v0.14.0. Assign the `x` variable to `hue` and set `legend=False` for the same effect.\n",
            "\n",
            "  sns.barplot(x=\"Loja\", y=\"Frete Médio\", data=dados_lojas, palette=\"Oranges\")\n"
          ]
        },
        {
          "output_type": "display_data",
          "data": {
            "text/plain": [
              "<Figure size 800x500 with 1 Axes>"
            ],
            "image/png": "[encoded data removed]"
          },
          "metadata": {}
        },
        {
          "output_type": "stream",
          "name": "stderr",
          "text": [
            "<ipython-input-49-f5c43a80f3f8>:35: FutureWarning: \n",
            "\n",
            "Passing `palette` without assigning `hue` is deprecated and will be removed in v0.14.0. Assign the `x` variable to `hue` and set `legend=False` for the same effect.\n",
            "\n",
            "  sns.barplot(x=\"Loja\", y=\"Avaliação Média\", data=dados_lojas, palette=\"Greens\")\n"
          ]
        },
        {
          "output_type": "display_data",
          "data": {
            "text/plain": [
              "<Figure size 800x500 with 1 Axes>"
            ],
            "image/png": "[encoded data removed]"
          },
          "metadata": {}
        }
      ]
    },
    {
      "cell_type": "markdown",
      "source": [
        "# 7. Relatório"
      ],
      "metadata": {
        "id": "37nn1ZSjeFnF"
      }
    },
    {
      "cell_type": "markdown",
      "source": [
        "Por ser a que menos fatura, mesmo tendo um boas avaliações, sugiro a loja 4."
      ],
      "metadata": {
        "id": "Ai6m8bIbeWm0"
      }
    }
  ]
}